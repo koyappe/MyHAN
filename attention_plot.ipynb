{
 "cells": [
  {
   "cell_type": "code",
   "execution_count": 1,
   "metadata": {},
   "outputs": [],
   "source": [
    "from attention_plot import attention_plot"
   ]
  },
  {
   "cell_type": "code",
   "execution_count": 4,
   "metadata": {},
   "outputs": [],
   "source": [
    "import numpy as np\n",
    "import json\n",
    "from trans_data.src import onehot"
   ]
  },
  {
   "cell_type": "code",
   "execution_count": 5,
   "metadata": {},
   "outputs": [],
   "source": [
    "md = onehot.MakeData()"
   ]
  },
  {
   "cell_type": "code",
   "execution_count": 6,
   "metadata": {},
   "outputs": [],
   "source": [
    "f = open('./trans_data/src/dataset.json', 'r')\n",
    "vector_dict = json.load(f)\n",
    "g = open('./trans_data/src/data.json', 'r')\n",
    "token_vector = json.load(g)"
   ]
  },
  {
   "cell_type": "code",
   "execution_count": 5,
   "metadata": {},
   "outputs": [],
   "source": [
    "#token_vector.items()"
   ]
  },
  {
   "cell_type": "code",
   "execution_count": 15,
   "metadata": {},
   "outputs": [],
   "source": [
    "program_and_labels = md.program_sep(vector_dict)\n",
    "programs = []\n",
    "labels = []\n",
    "onehot_x = []\n",
    "onehot_y = []\n",
    "\n",
    "for program, label in list(program_and_labels):\n",
    "    programs.append(program)\n",
    "    labels.append(label)\n",
    "    for one_line in program:\n",
    "        onehot_x.append(md.onehot_vec(one_line, 180))"
   ]
  },
  {
   "cell_type": "code",
   "execution_count": 12,
   "metadata": {},
   "outputs": [],
   "source": [
    "def devectorize(program):\n",
    "    g = open('./trans_data/src/data.json', 'r')\n",
    "    token_vector = json.load(g)\n",
    "    program_lines = []\n",
    "    for line in program:\n",
    "        program_tokens = []\n",
    "        for token in line:\n",
    "            program_tokens.append([key for key, value in token_vector.items() if value == token][0])\n",
    "        program_lines.append(program_tokens)\n",
    "    return program_lines\n",
    "            "
   ]
  },
  {
   "cell_type": "code",
   "execution_count": 10,
   "metadata": {},
   "outputs": [],
   "source": [
    "devec_program = devectorize(programs[0])"
   ]
  },
  {
   "cell_type": "code",
   "execution_count": 27,
   "metadata": {},
   "outputs": [],
   "source": [
    "onehot_x = []\n",
    "onehot_y = []\n",
    "for program, label in list(program_and_labels):\n",
    "    x = []\n",
    "    y = []\n",
    "    print(program)\n",
    "    for i, separate_line in enumerate(program):\n",
    "        x.append(md.onehot_vec(separate_line, 180))\n",
    "        y.append('{}'.format(label))\n",
    "    onehot_x.append(x)\n",
    "    onehot_y.append(y)"
   ]
  },
  {
   "cell_type": "code",
   "execution_count": 42,
   "metadata": {},
   "outputs": [
    {
     "data": {
      "text/plain": [
       "(25330, 25, 181)"
      ]
     },
     "execution_count": 42,
     "metadata": {},
     "output_type": "execute_result"
    }
   ],
   "source": [
    "np.shape(onehot_x)"
   ]
  },
  {
   "cell_type": "code",
   "execution_count": 39,
   "metadata": {},
   "outputs": [],
   "source": [
    "de_onehot_vector = []\n",
    "for i in onehot_x:\n",
    "    de_onehot_vector.append(deonehot(i)[0])"
   ]
  },
  {
   "cell_type": "code",
   "execution_count": null,
   "metadata": {},
   "outputs": [],
   "source": []
  },
  {
   "cell_type": "code",
   "execution_count": 1,
   "metadata": {},
   "outputs": [],
   "source": [
    "import pandas as pd\n",
    "import matplotlib as mpl\n",
    "mpl.use('Agg')\n",
    "import matplotlib.pyplot as plt\n",
    "import seaborn as sns\n",
    "import numpy as np\n",
    "from matplotlib.backends.backend_pdf import PdfPages\n",
    "def attention_plot(x, attention_value, step):\n",
    "    axlist = []\n",
    "    for i in range(np.shape(x)[0]):\n",
    "        fig = plt.figure(figsize=(8,12))\n",
    "        axlist.append(fig.add_subplot(np.shape(x)[0],1,i+1))\n",
    "        df = pd.DataFrame({'token' : devectorize([l.argmax() for l in x[i]]),\n",
    "                      'line' : i,\n",
    "                      'attention' : attention_value[i]\n",
    "                      })\n",
    "        #print(df)\n",
    "        df_attention_pivot = pd.pivot_table(data=df,\n",
    "                                       values='attention',\n",
    "                                       columns='token',\n",
    "                                       index='line',\n",
    "                                       aggfunc=np.mean)\n",
    "        #sprint(df_attention_pivot)\n",
    "        heatmap = sns.heatmap(\n",
    "                df_attention_pivot,\n",
    "                cbar=False,\n",
    "                annot=True,\n",
    "                cmap='Reds',\n",
    "                ax = axlist[i],\n",
    "                linewidths=.5,\n",
    "                square=False,\n",
    "                fmt=\"1.1f\",\n",
    "            )\n",
    "    pdf = PdfPages('./yelp/img/img_{}.pdf'.format(step))\n",
    "    fignums = plt.get_fignums()\n",
    "    for fignum in fignums:\n",
    "        plt.figure(fignum)\n",
    "        pdf.savefig()\n",
    "    pdf.close()\n",
    "def attention_plot(x, attention_value, step):\n",
    "    axlist = []\n",
    "    for i in range(np.shape(x)[0]):\n",
    "        fig = plt.figure(figsize=(8,12))\n",
    "        axlist.append(fig.add_subplot(np.shape(x)[0],1,i+1))\n",
    "        df = pd.DataFrame({'token' : devectorize([l.argmax() for l in x[i]]),\n",
    "                      'line' : i,\n",
    "                      'attention' : attention_value[i]\n",
    "                      })\n",
    "        print(df)\n",
    "        df_attention_pivot = pd.pivot_table(data=df,\n",
    "                                       values='attention',\n",
    "                                       columns='token',\n",
    "                                       index='line',\n",
    "                                       aggfunc=np.mean)\n",
    "        heatmap = sns.heatmap(\n",
    "                df_attention_pivot,\n",
    "                cbar=False,\n",
    "                annot=True,\n",
    "                cmap='Reds',\n",
    "                ax = axlist[i],\n",
    "                linewidths=.5,\n",
    "                square=False,\n",
    "                fmt=\"1.1f\",\n",
    "            )\n",
    "    pdf = PdfPages('./yelp/img/img_{}.pdf'.format(step))\n",
    "    fignums = plt.get_fignums()\n",
    "    for fignum in fignums:\n",
    "        plt.figure(fignum)\n",
    "        pdf.savefig()\n",
    "    pdf.close()\n",
    "\n",
    "def devectorize(program):\n",
    "    g = open('./trans_data/src/data.json', 'r')\n",
    "    token_vector = json.load(g)\n",
    "    program_lines = []\n",
    "    for line in program:\n",
    "        program_tokens = []\n",
    "        for token in line:\n",
    "            program_tokens.append([key for key, value in token_vector.items() if value == token][0])\n",
    "        program_lines.append(program_tokens)\n",
    "    return program_lines\n"
   ]
  },
  {
   "cell_type": "code",
   "execution_count": 25,
   "metadata": {},
   "outputs": [],
   "source": [
    "a = md.program_sep(vector_dict)"
   ]
  },
  {
   "cell_type": "code",
   "execution_count": 27,
   "metadata": {},
   "outputs": [
    {
     "data": {
      "text/plain": [
       "[]"
      ]
     },
     "execution_count": 27,
     "metadata": {},
     "output_type": "execute_result"
    }
   ],
   "source": [
    "list(a)"
   ]
  },
  {
   "cell_type": "code",
   "execution_count": 13,
   "metadata": {},
   "outputs": [
    {
     "data": {
      "text/plain": [
       "[]"
      ]
     },
     "execution_count": 13,
     "metadata": {},
     "output_type": "execute_result"
    }
   ],
   "source": []
  },
  {
   "cell_type": "code",
   "execution_count": 12,
   "metadata": {},
   "outputs": [],
   "source": [
    "x = []\n",
    "y = []\n",
    "for programs, labels in programs_and_labels:\n",
    "    train_x = []\n",
    "    train_y = []\n",
    "    for i, separate_line in enumerate(programs):\n",
    "        train_x.append(md.onehot_vec(separate_line, 180))\n",
    "        train_y.append('{}'.format(labels))\n",
    "    x.append(train_x)\n",
    "    y.append(train_y)"
   ]
  },
  {
   "cell_type": "code",
   "execution_count": 11,
   "metadata": {},
   "outputs": [
    {
     "data": {
      "text/plain": [
       "(0,)"
      ]
     },
     "execution_count": 11,
     "metadata": {},
     "output_type": "execute_result"
    }
   ],
   "source": [
    "np.shape(x)"
   ]
  },
  {
   "cell_type": "code",
   "execution_count": null,
   "metadata": {},
   "outputs": [],
   "source": []
  }
 ],
 "metadata": {
  "kernelspec": {
   "display_name": "Python 3",
   "language": "python",
   "name": "python3"
  },
  "language_info": {
   "codemirror_mode": {
    "name": "ipython",
    "version": 3
   },
   "file_extension": ".py",
   "mimetype": "text/x-python",
   "name": "python",
   "nbconvert_exporter": "python",
   "pygments_lexer": "ipython3",
   "version": "3.6.5"
  }
 },
 "nbformat": 4,
 "nbformat_minor": 2
}
